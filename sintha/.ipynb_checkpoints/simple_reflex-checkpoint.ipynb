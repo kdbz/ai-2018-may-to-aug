{
 "cells": [
  {
   "cell_type": "markdown",
   "metadata": {},
   "source": [
    "A simple reflex agent by definition is as follows;\n",
    "\n",
    "![A simple reflex Agent](https://www.doc.ic.ac.uk/project/examples/2005/163/g0516334/images/snapshot9.png)"
   ]
  },
  {
   "cell_type": "markdown",
   "metadata": {},
   "source": [
    " The random module allows you to generate random numbers. It is important since one of the ways we can prevent the SR Agent from getting into loops is by randomizing behavior."
   ]
  },
  {
   "cell_type": "code",
   "execution_count": 7,
   "metadata": {},
   "outputs": [],
   "source": [
    "import random"
   ]
  },
  {
   "cell_type": "code",
   "execution_count": 10,
   "metadata": {},
   "outputs": [
    {
     "data": {
      "text/plain": [
       "98.60467957420698"
      ]
     },
     "execution_count": 10,
     "metadata": {},
     "output_type": "execute_result"
    }
   ],
   "source": [
    "print(random.randint(0, 5))"
   ]
  },
  {
   "cell_type": "code",
   "execution_count": 13,
   "metadata": {},
   "outputs": [
    {
     "data": {
      "text/plain": [
       "56.718708466270385"
      ]
     },
     "execution_count": 13,
     "metadata": {},
     "output_type": "execute_result"
    }
   ],
   "source": [
    "random.random() * 100"
   ]
  },
  {
   "cell_type": "markdown",
   "metadata": {},
   "source": [
    "Defining classes in python"
   ]
  },
  {
   "cell_type": "code",
   "execution_count": 25,
   "metadata": {},
   "outputs": [
    {
     "name": "stdout",
     "output_type": "stream",
     "text": [
      "Class property one\n",
      "Class method tester\n"
     ]
    }
   ],
   "source": [
    "class SampleClass:\n",
    "    #class properties/attributes\n",
    "    property1 = 'Class property one'\n",
    "    property2 = 'Class property two'\n",
    "    \n",
    "    def function(self):\n",
    "        print(\"Class method tester\")\n",
    "\n",
    "#creating an object\n",
    "obj1 = SampleClass()\n",
    "#access class properties\n",
    "print(obj1.property1)\n",
    "#accessing class methods/behavior\n",
    "obj1.function()"
   ]
  },
  {
   "cell_type": "markdown",
   "metadata": {},
   "source": [
    "self? What does this do in python\n"
   ]
  },
  {
   "cell_type": "markdown",
   "metadata": {},
   "source": [
    "Class for the environment"
   ]
  },
  {
   "cell_type": "code",
   "execution_count": null,
   "metadata": {},
   "outputs": [],
   "source": [
    "#class block - an environment with 2 locations which are either clean or dirty\n",
    "class Environment(object):"
   ]
  },
  {
   "cell_type": "markdown",
   "metadata": {},
   "source": [
    "What curly braces are in other languages, indents are in python\n",
    "Code blocks are distinguished using tabs/a number of spaces(4)"
   ]
  },
  {
   "cell_type": "code",
   "execution_count": 15,
   "metadata": {},
   "outputs": [],
   "source": [
    "    #function block\n",
    "    def __init__(self):\n",
    "        # instantiate locations and conditions\n",
    "        # 0 indicates Clean and 1 indicates Dirty\n",
    "        self.locationCondition = {'A': '0', 'B': '0'}\n",
    "\n",
    "        # randomize conditions in locations A and B\n",
    "        self.locationCondition['A'] = random.randint(0, 1)\n",
    "        self.locationCondition['B'] = random.randint(0, 1)"
   ]
  },
  {
   "cell_type": "markdown",
   "metadata": {},
   "source": [
    "Simple reflex agent"
   ]
  },
  {
   "cell_type": "code",
   "execution_count": 19,
   "metadata": {},
   "outputs": [],
   "source": [
    "class SimpleReflexVacuumAgent(Environment):\n",
    "    def __init__(self, Environment):\n",
    "        print(Environment.locationCondition)\n",
    "        # Instantiate performance measurement\n",
    "        Score = 0\n",
    "        # place vacuum at random location\n",
    "        vacuumLocation = random.randint(0, 1)\n",
    "        # if vacuum at A\n",
    "        if vacuumLocation == 0:\n",
    "            print(\"Vacuum is randomly placed at Location A.\")\n",
    "            # and Location A is Dirty.\n",
    "            if Environment.locationCondition['A'] == 1:\n",
    "                print(\"Location A is Dirty.\")\n",
    "                # suck the dirt  and mark it clean\n",
    "                Environment.locationCondition['A'] = 0;\n",
    "                Score += 1\n",
    "                print(\"Location A has been Cleaned.\")\n",
    "                # move to B\n",
    "                print(\"Moving to Location B...\")\n",
    "                Score -= 1\n",
    "                # if B is Dirty\n",
    "                if Environment.locationCondition['B'] == 1:\n",
    "                    print(\"Location B is Dirty.\")\n",
    "                    # suck and mark clean\n",
    "                    Environment.locationCondition['B'] = 0;\n",
    "                    Score += 1\n",
    "                    print(\"Location B has been Cleaned.\")\n",
    "            else:\n",
    "                # move to B\n",
    "                Score -= 1\n",
    "                print(\"Moving to Location B...\")\n",
    "                # if B is Dirty\n",
    "                if Environment.locationCondition['B'] == 1:\n",
    "                    print(\"Location B is Dirty.\")\n",
    "                    # suck and mark clean\n",
    "                    Environment.locationCondition['B'] = 0;\n",
    "                    Score += 1\n",
    "                    print(\"Location B has been Cleaned.\")\n",
    "\n",
    "        elif vacuumLocation == 1:\n",
    "            print(\"Vacuum randomly placed at Location B.\")\n",
    "            # and B is Dirty\n",
    "            if Environment.locationCondition['B'] == 1:\n",
    "                print(\"Location B is Dirty.\")\n",
    "                # suck and mark clean\n",
    "                Environment.locationCondition['B'] = 0;\n",
    "                Score += 1\n",
    "                print(\"Location B has been Cleaned.\")\n",
    "                # move to A\n",
    "                Score -= 1\n",
    "                print(\"Moving to Location A...\")\n",
    "                # if A is Dirty\n",
    "                if Environment.locationCondition['A'] == 1:\n",
    "                    print(\"Location A is Dirty.\")\n",
    "                    # suck and mark clean\n",
    "                    Environment.locationCondition['A'] = 0;\n",
    "                    Score += 1\n",
    "                    print(\"Location A has been Cleaned.\")\n",
    "            else:\n",
    "                # move to A\n",
    "                print(\"Moving to Location A...\")\n",
    "                Score -= 1\n",
    "                # if A is Dirty\n",
    "                if Environment.locationCondition['A'] == 1:\n",
    "                    print(\"Location A is Dirty.\")\n",
    "                    # suck and mark clean\n",
    "                    Environment.locationCondition['A'] = 0;\n",
    "                    Score += 1\n",
    "                    print(\"Location A has been Cleaned.\")\n",
    "        # done cleaning\n",
    "        print(Environment.locationCondition)\n",
    "        print(\"Performance Measurement: \" + str(Score))"
   ]
  },
  {
   "cell_type": "markdown",
   "metadata": {},
   "source": [
    "Start the agent :D"
   ]
  },
  {
   "cell_type": "code",
   "execution_count": 20,
   "metadata": {},
   "outputs": [
    {
     "name": "stdout",
     "output_type": "stream",
     "text": [
      "{'A': 1, 'B': 1}\n",
      "Vacuum is randomly placed at Location A.\n",
      "Location A is Dirty.\n",
      "Location A has been Cleaned.\n",
      "Moving to Location B...\n",
      "Location B is Dirty.\n",
      "Location B has been Cleaned.\n",
      "{'A': 0, 'B': 0}\n",
      "Performance Measurement: 1\n"
     ]
    }
   ],
   "source": [
    "theEnvironment = Environment()\n",
    "theVacuum = SimpleReflexVacuumAgent(theEnvironment)theEnvironment = Environment()\n",
    "theVacuum = SimpleReflexVacuumAgent(theEnvironment)"
   ]
  }
 ],
 "metadata": {
  "kernelspec": {
   "display_name": "Python 3",
   "language": "python",
   "name": "python3"
  },
  "language_info": {
   "codemirror_mode": {
    "name": "ipython",
    "version": 3
   },
   "file_extension": ".py",
   "mimetype": "text/x-python",
   "name": "python",
   "nbconvert_exporter": "python",
   "pygments_lexer": "ipython3",
   "version": "3.5.2"
  }
 },
 "nbformat": 4,
 "nbformat_minor": 2
}
