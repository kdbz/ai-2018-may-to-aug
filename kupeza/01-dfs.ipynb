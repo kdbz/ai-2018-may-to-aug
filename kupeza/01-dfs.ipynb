{
 "cells": [
  {
   "cell_type": "markdown",
   "metadata": {},
   "source": [
    "- These algorithms can be applied to traverse graphs or trees. \n",
    "- To represent such data structures in Python, all we need to use is a dictionary where the vertices (or nodes) will be stored as keys and the adjacent vertices as values."
   ]
  },
  {
   "cell_type": "code",
   "execution_count": 17,
   "metadata": {},
   "outputs": [],
   "source": [
    "small_graph = {'A': set(['B', 'C']),\n",
    "         'B': set(['A', 'D', 'E']),\n",
    "         'C': set(['A', 'F']),\n",
    "         'D': set(['B']),\n",
    "         'E': set(['B', 'F']),\n",
    "         'F': set(['C', 'E'])}"
   ]
  },
  {
   "cell_type": "markdown",
   "metadata": {},
   "source": [
    "- Depth first search works as follows;\n",
    "\n",
    "![How depth first search works](https://upload.wikimedia.org/wikipedia/commons/7/7f/Depth-First-Search.gif)"
   ]
  },
  {
   "cell_type": "markdown",
   "metadata": {},
   "source": [
    "- The search algorithms will take a graph and a starting point as input. Having a goal is optional. \n",
    "- Depth-First Search will visit the first adjacent vertex of the starting point and then repeat the same process until it reaches the very bottom of the branch and then it will finally start backtracking. \n",
    "- DFS can be implemented using recursion, which is fine for small graphs, or a safer option is iteration."
   ]
  },
  {
   "cell_type": "markdown",
   "metadata": {},
   "source": [
    "> @TODO : Include a way of showing what is happening in the code below"
   ]
  },
  {
   "cell_type": "code",
   "execution_count": 23,
   "metadata": {},
   "outputs": [],
   "source": [
    "#Simple dfs implementation\n",
    "class kupeza:\n",
    "    def dfs(self,graph, start):\n",
    "        visited, stack = set(), [start]\n",
    "        while stack:\n",
    "            vertex = stack.pop()\n",
    "            if vertex not in visited:\n",
    "                visited.add(vertex)\n",
    "                stack.extend(graph[vertex] - visited)\n",
    "        return visited"
   ]
  },
  {
   "cell_type": "code",
   "execution_count": 24,
   "metadata": {},
   "outputs": [],
   "source": [
    "#testing\n",
    "j = kupeza()"
   ]
  },
  {
   "cell_type": "code",
   "execution_count": 25,
   "metadata": {},
   "outputs": [
    {
     "data": {
      "text/plain": [
       "{'A', 'B', 'C', 'D', 'E', 'F'}"
      ]
     },
     "execution_count": 25,
     "metadata": {},
     "output_type": "execute_result"
    }
   ],
   "source": [
    "j.dfs(small_graph,'A')"
   ]
  }
 ],
 "metadata": {
  "kernelspec": {
   "display_name": "Python 3",
   "language": "python",
   "name": "python3"
  },
  "language_info": {
   "codemirror_mode": {
    "name": "ipython",
    "version": 3
   },
   "file_extension": ".py",
   "mimetype": "text/x-python",
   "name": "python",
   "nbconvert_exporter": "python",
   "pygments_lexer": "ipython3",
   "version": "3.5.2"
  }
 },
 "nbformat": 4,
 "nbformat_minor": 2
}
