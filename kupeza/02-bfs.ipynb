{
 "cells": [
  {
   "cell_type": "code",
   "execution_count": 1,
   "metadata": {},
   "outputs": [],
   "source": [
    "small_graph = {'A': set(['B', 'C']),\n",
    "         'B': set(['A', 'D', 'E']),\n",
    "         'C': set(['A', 'F']),\n",
    "         'D': set(['B']),\n",
    "         'E': set(['B', 'F']),\n",
    "         'F': set(['C', 'E'])}"
   ]
  },
  {
   "cell_type": "markdown",
   "metadata": {},
   "source": [
    "- The BFS algorithm instead of following a branch down to the bottom, will visit all the vertices of the same depth before moving on deeper. So when choosing which vertex to expand next, it will choose the oldest item on the fringe, unlike DFS which chooses the newest. \n",
    "- That’s why DFS uses a stack and pops items from the tail, while BFS uses a queue and pops items from the front. So by modifying this line"
   ]
  },
  {
   "cell_type": "markdown",
   "metadata": {},
   "source": [
    "- We now execute a Breadth-First Search. We can make this more efficient though. To cut down on the cost of pop(0) we can use a double ended queue called deque. This allows us to append items to both ends."
   ]
  },
  {
   "cell_type": "markdown",
   "metadata": {},
   "source": [
    ">@TODO : Include a way of showing what is happening in the code below"
   ]
  },
  {
   "cell_type": "code",
   "execution_count": 5,
   "metadata": {},
   "outputs": [],
   "source": [
    "#simple implementation of BFS\n",
    "\n",
    "from collections import deque\n",
    "class kupeza:\n",
    "    def bfs(self,graph, start):\n",
    "        visited, queue = set(), [start]\n",
    "        while queue:\n",
    "            vertex = queue.pop(0)\n",
    "            if vertex not in visited:\n",
    "                visited.add(vertex)\n",
    "                queue.extend(graph[vertex] - visited)\n",
    "        return visited"
   ]
  },
  {
   "cell_type": "code",
   "execution_count": 6,
   "metadata": {},
   "outputs": [],
   "source": [
    "#testing\n",
    "j = kupeza()"
   ]
  },
  {
   "cell_type": "markdown",
   "metadata": {},
   "source": [
    ">😓 @TODO : Debug testing code"
   ]
  },
  {
   "cell_type": "code",
   "execution_count": 7,
   "metadata": {},
   "outputs": [
    {
     "data": {
      "text/plain": [
       "{'A', 'B', 'C', 'D', 'E', 'F'}"
      ]
     },
     "execution_count": 7,
     "metadata": {},
     "output_type": "execute_result"
    }
   ],
   "source": [
    "j.bfs(small_graph,'A')"
   ]
  }
 ],
 "metadata": {
  "kernelspec": {
   "display_name": "Python 3",
   "language": "python",
   "name": "python3"
  },
  "language_info": {
   "codemirror_mode": {
    "name": "ipython",
    "version": 3
   },
   "file_extension": ".py",
   "mimetype": "text/x-python",
   "name": "python",
   "nbconvert_exporter": "python",
   "pygments_lexer": "ipython3",
   "version": "3.5.2"
  }
 },
 "nbformat": 4,
 "nbformat_minor": 2
}
