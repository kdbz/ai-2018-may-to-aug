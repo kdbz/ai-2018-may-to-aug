{
 "cells": [
  {
   "cell_type": "code",
   "execution_count": null,
   "metadata": {},
   "outputs": [],
   "source": [
    "small_graph = {'A': ['B', 'C'], 'B':['D'], 'C':[], 'D':[]}"
   ]
  },
  {
   "cell_type": "markdown",
   "metadata": {},
   "source": [
    "- The BFS algorithm instead of following a branch down to the bottom, will visit all the vertices of the same depth before moving on deeper. So when choosing which vertex to expand next, it will choose the oldest item on the fringe, unlike DFS which chooses the newest. \n",
    "- That’s why DFS uses a stack and pops items from the tail, while BFS uses a queue and pops items from the front. So by modifying this line"
   ]
  },
  {
   "cell_type": "markdown",
   "metadata": {},
   "source": [
    "- We now execute a Breadth-First Search. We can make this more efficient though. To cut down on the cost of pop(0) we can use a double ended queue called deque. This allows us to append items to both ends."
   ]
  },
  {
   "cell_type": "markdown",
   "metadata": {},
   "source": [
    ">@TODO : Include a way of showing what is happening in the code below"
   ]
  },
  {
   "cell_type": "code",
   "execution_count": 2,
   "metadata": {},
   "outputs": [],
   "source": [
    "#simple implementation of BFS\n",
    "\n",
    "from collections import deque\n",
    "class kupeza:\n",
    "    def bfs(graph, start, goal):\n",
    "        visited = set()\n",
    "        queue = [start]\n",
    "\n",
    "        while queue:\n",
    "            node = queue.pop()\n",
    "            if node not in visited:\n",
    "                visited.add(node)\n",
    "\n",
    "                if node == goal:\n",
    "                    return\n",
    "                for neighbor in graph[node]:\n",
    "                    if neighbor not in visited:\n",
    "                        queue.appendleft(neighbor)"
   ]
  },
  {
   "cell_type": "code",
   "execution_count": 3,
   "metadata": {},
   "outputs": [],
   "source": [
    "#testing\n",
    "j = kupeza()"
   ]
  },
  {
   "cell_type": "markdown",
   "metadata": {},
   "source": [
    ">😓 @TODO : Debug testing code"
   ]
  },
  {
   "cell_type": "code",
   "execution_count": null,
   "metadata": {},
   "outputs": [],
   "source": [
    "j.dfs(small_graph,'A')"
   ]
  }
 ],
 "metadata": {
  "kernelspec": {
   "display_name": "Python 3",
   "language": "python",
   "name": "python3"
  },
  "language_info": {
   "codemirror_mode": {
    "name": "ipython",
    "version": 3
   },
   "file_extension": ".py",
   "mimetype": "text/x-python",
   "name": "python",
   "nbconvert_exporter": "python",
   "pygments_lexer": "ipython3",
   "version": "3.5.2"
  }
 },
 "nbformat": 4,
 "nbformat_minor": 2
}
